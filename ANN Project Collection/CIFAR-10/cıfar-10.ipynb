{
 "cells": [
  {
   "cell_type": "code",
   "execution_count": 12,
   "metadata": {},
   "outputs": [],
   "source": [
    "# data analysis and wrangling\n",
    "import pandas as pd\n",
    "import numpy as np\n",
    "import random as rnd\n",
    "\n",
    "# visualization\n",
    "import seaborn as sns\n",
    "import matplotlib.pyplot as plt\n",
    "%matplotlib inline\n",
    "\n",
    "# scaling and train test split\n",
    "from sklearn.model_selection import train_test_split\n",
    "from sklearn.preprocessing import MinMaxScaler\n",
    "\n",
    "# creating a model\n",
    "from tensorflow.keras.models import Sequential\n",
    "from tensorflow.keras.layers import Dense, Activation ,Dropout , Flatten\n",
    "from tensorflow.keras.optimizers import Adam\n",
    "\n",
    "# evaluation on test data\n",
    "from sklearn.metrics import mean_squared_error,mean_absolute_error,explained_variance_score\n",
    "from sklearn.metrics import classification_report,confusion_matrix\n",
    "import tensorflow as tf\n",
    "from tensorflow.keras.preprocessing import image_dataset_from_directory\n"
   ]
  },
  {
   "cell_type": "markdown",
   "metadata": {},
   "source": [
    "#  CIFAR-10 Veri Setinin Yapısı\n",
    "\n",
    "* Eğitim seti (x_train): 50,000 resim, her biri 32x32 piksel, 3 kanal (RGB)\n",
    "* Test seti (x_test): 10,000 resim, her biri 32x32 piksel, 3 kanal (RGB)\n",
    "* y_train ve y_test etiketleridir. Her etiket, resmin hangi sınıfa ait olduğunu belirtir."
   ]
  },
  {
   "cell_type": "code",
   "execution_count": 13,
   "metadata": {},
   "outputs": [],
   "source": [
    "# CIFAR-10 veri setini yükle\n",
    "from tensorflow.keras.datasets import cifar10\n",
    "\n",
    "\n",
    "(x_train, y_train), (x_test, y_test) = cifar10.load_data()\n",
    "\n"
   ]
  },
  {
   "cell_type": "code",
   "execution_count": 14,
   "metadata": {},
   "outputs": [
    {
     "name": "stdout",
     "output_type": "stream",
     "text": [
      "Eğitim seti boyutu: (50000, 32, 32, 3)\n",
      "Test seti boyutu: (10000, 32, 32, 3)\n"
     ]
    }
   ],
   "source": [
    "# Veri seti hakkında bilgi ver\n",
    "print(\"Eğitim seti boyutu:\", x_train.shape)\n",
    "print(\"Test seti boyutu:\", x_test.shape)"
   ]
  },
  {
   "cell_type": "markdown",
   "metadata": {},
   "source": [
    "# CIFAR-10'un Sınıfları\n",
    "* CIFAR-10 veri setinde 10 farklı sınıf bulunur. Sınıfların listesi aşağıdaki gibi sıralanabilir:"
   ]
  },
  {
   "cell_type": "code",
   "execution_count": 15,
   "metadata": {},
   "outputs": [
    {
     "name": "stdout",
     "output_type": "stream",
     "text": [
      "Sınıf sayısı: 10\n",
      "Sınıf isimleri: ['airplane', 'automobile', 'bird', 'cat', 'deer', 'dog', 'frog', 'horse', 'ship', 'truck']\n"
     ]
    }
   ],
   "source": [
    "class_names = ['airplane', 'automobile', 'bird', 'cat', 'deer', 'dog', 'frog', 'horse', 'ship', 'truck']\n",
    "\n",
    "\n",
    "print(f\"Sınıf sayısı: {len(class_names)}\")\n",
    "print(\"Sınıf isimleri:\", class_names)"
   ]
  },
  {
   "cell_type": "markdown",
   "metadata": {},
   "source": [
    "# MODELİ EĞİTMEYE GEÇELİM"
   ]
  },
  {
   "cell_type": "markdown",
   "metadata": {},
   "source": [
    "* Önce Veri Ölçeklendirme"
   ]
  },
  {
   "cell_type": "code",
   "execution_count": 16,
   "metadata": {},
   "outputs": [],
   "source": [
    "x_train = x_train/255\n",
    "x_test = x_test/255"
   ]
  },
  {
   "cell_type": "code",
   "execution_count": 17,
   "metadata": {},
   "outputs": [],
   "source": [
    "from tensorflow.keras.utils import to_categorical\n",
    "y_train = to_categorical(y_train,num_classes=10 )\n",
    "y_test = to_categorical(y_test , num_classes=10)"
   ]
  },
  {
   "cell_type": "markdown",
   "metadata": {},
   "source": [
    "# İnput Shape Neye Göre Belirlenir"
   ]
  },
  {
   "cell_type": "markdown",
   "metadata": {},
   "source": [
    "* Her veri setinin kendine özgü bir görüntü boyutu olabilir. Bunu belirlemek için:"
   ]
  },
  {
   "cell_type": "code",
   "execution_count": 40,
   "metadata": {},
   "outputs": [
    {
     "data": {
      "text/plain": [
       "'\\nimport numpy as np\\nfrom tensorflow.keras.datasets import cifar10\\n\\n# Veri setini yükle\\n(x_train, y_train), (x_test, y_test) = cifar10.load_data()\\n\\n# İlk resmin boyutunu yazdır\\nprint(\"Bir resmin boyutu:\", x_train[0].shape)\\n\\n'"
      ]
     },
     "execution_count": 40,
     "metadata": {},
     "output_type": "execute_result"
    }
   ],
   "source": [
    "'''\n",
    "import numpy as np\n",
    "from tensorflow.keras.datasets import cifar10\n",
    "\n",
    "# Veri setini yükle\n",
    "(x_train, y_train), (x_test, y_test) = cifar10.load_data()\n",
    "\n",
    "# İlk resmin boyutunu yazdır\n",
    "print(\"Bir resmin boyutu:\", x_train[0].shape)\n",
    "\n",
    "'''"
   ]
  },
  {
   "cell_type": "markdown",
   "metadata": {},
   "source": [
    "Yapay sinir ağlarında, giriş katmanına giren verinin sabit bir boyutta olması gerekir. Bu yüzden farklı boyutlardaki resimleri aynı boyuta ölçeklendirmek (resize) zorundayız.\n",
    "\n",
    "💡 CNN Modellerinde Yaygın Kullanılan Görsel Boyutları:\n",
    "\n",
    "* CIFAR-10 → 32x32\n",
    "* MNIST → 28x28 (Gri ölçekli)\n",
    "* ImageNet → 224x224\n",
    "\n",
    "Kendi veri setin → Modelin kapasitesine göre 64x64, 128x128, 256x256 vb.\n",
    "\n",
    "Eğer farklı boyuttaki resimler kullanıyorsan, bunları yeniden boyutlandırman (resize) gerekir."
   ]
  },
  {
   "cell_type": "code",
   "execution_count": 41,
   "metadata": {},
   "outputs": [
    {
     "name": "stderr",
     "output_type": "stream",
     "text": [
      "C:\\Users\\hdgn5\\AppData\\Local\\Packages\\PythonSoftwareFoundation.Python.3.12_qbz5n2kfra8p0\\LocalCache\\local-packages\\Python312\\site-packages\\keras\\src\\layers\\reshaping\\flatten.py:37: UserWarning: Do not pass an `input_shape`/`input_dim` argument to a layer. When using Sequential models, prefer using an `Input(shape)` object as the first layer in the model instead.\n",
      "  super().__init__(**kwargs)\n"
     ]
    }
   ],
   "source": [
    "model = Sequential([\n",
    "    Flatten(input_shape=(32,32,3)),\n",
    "    Dense(256 , activation=\"relu\"),\n",
    "    Dense(128 , activation=\"relu\"),\n",
    "    Dense(64 , activation=\"relu\"),\n",
    "    Dense(10 , activation=\"softmax\"),\n",
    "    ])"
   ]
  },
  {
   "cell_type": "code",
   "execution_count": 42,
   "metadata": {},
   "outputs": [],
   "source": [
    "model.compile(optimizer=\"adam\" , loss=\"categorical_crossentropy\",metrics=[\"accuracy\"])"
   ]
  },
  {
   "cell_type": "code",
   "execution_count": 18,
   "metadata": {},
   "outputs": [
    {
     "name": "stdout",
     "output_type": "stream",
     "text": [
      "Eğitim seti boyutu: (50000, 32, 32, 3)\n",
      "Test seti boyutu: (10000, 32, 32, 3)\n"
     ]
    }
   ],
   "source": [
    "print(\"Eğitim seti boyutu:\", x_train.shape)\n",
    "print(\"Test seti boyutu:\", x_test.shape)"
   ]
  },
  {
   "cell_type": "markdown",
   "metadata": {},
   "source": [
    "* Veri shapeleri doğru mu diye kontrol edelim"
   ]
  },
  {
   "cell_type": "code",
   "execution_count": 19,
   "metadata": {},
   "outputs": [
    {
     "name": "stdout",
     "output_type": "stream",
     "text": [
      "Eğitim seti boyutu: (50000, 10)\n",
      "Test seti boyutu: (10000, 10)\n"
     ]
    }
   ],
   "source": [
    "print(\"Eğitim seti boyutu:\", y_train.shape)\n",
    "print(\"Test seti boyutu:\", y_test.shape)"
   ]
  },
  {
   "cell_type": "code",
   "execution_count": 45,
   "metadata": {},
   "outputs": [
    {
     "name": "stdout",
     "output_type": "stream",
     "text": [
      "Epoch 1/30\n",
      "\u001b[1m782/782\u001b[0m \u001b[32m━━━━━━━━━━━━━━━━━━━━\u001b[0m\u001b[37m\u001b[0m \u001b[1m7s\u001b[0m 8ms/step - accuracy: 0.2759 - loss: 1.9915\n",
      "Epoch 2/30\n",
      "\u001b[1m782/782\u001b[0m \u001b[32m━━━━━━━━━━━━━━━━━━━━\u001b[0m\u001b[37m\u001b[0m \u001b[1m6s\u001b[0m 7ms/step - accuracy: 0.3892 - loss: 1.6986\n",
      "Epoch 3/30\n",
      "\u001b[1m782/782\u001b[0m \u001b[32m━━━━━━━━━━━━━━━━━━━━\u001b[0m\u001b[37m\u001b[0m \u001b[1m6s\u001b[0m 7ms/step - accuracy: 0.4198 - loss: 1.6100\n",
      "Epoch 4/30\n",
      "\u001b[1m782/782\u001b[0m \u001b[32m━━━━━━━━━━━━━━━━━━━━\u001b[0m\u001b[37m\u001b[0m \u001b[1m6s\u001b[0m 8ms/step - accuracy: 0.4405 - loss: 1.5610\n",
      "Epoch 5/30\n",
      "\u001b[1m782/782\u001b[0m \u001b[32m━━━━━━━━━━━━━━━━━━━━\u001b[0m\u001b[37m\u001b[0m \u001b[1m6s\u001b[0m 7ms/step - accuracy: 0.4550 - loss: 1.5147\n",
      "Epoch 6/30\n",
      "\u001b[1m782/782\u001b[0m \u001b[32m━━━━━━━━━━━━━━━━━━━━\u001b[0m\u001b[37m\u001b[0m \u001b[1m6s\u001b[0m 8ms/step - accuracy: 0.4734 - loss: 1.4811\n",
      "Epoch 7/30\n",
      "\u001b[1m782/782\u001b[0m \u001b[32m━━━━━━━━━━━━━━━━━━━━\u001b[0m\u001b[37m\u001b[0m \u001b[1m6s\u001b[0m 8ms/step - accuracy: 0.4748 - loss: 1.4629\n",
      "Epoch 8/30\n",
      "\u001b[1m782/782\u001b[0m \u001b[32m━━━━━━━━━━━━━━━━━━━━\u001b[0m\u001b[37m\u001b[0m \u001b[1m6s\u001b[0m 8ms/step - accuracy: 0.4891 - loss: 1.4309\n",
      "Epoch 9/30\n",
      "\u001b[1m782/782\u001b[0m \u001b[32m━━━━━━━━━━━━━━━━━━━━\u001b[0m\u001b[37m\u001b[0m \u001b[1m5s\u001b[0m 6ms/step - accuracy: 0.5036 - loss: 1.3943\n",
      "Epoch 10/30\n",
      "\u001b[1m782/782\u001b[0m \u001b[32m━━━━━━━━━━━━━━━━━━━━\u001b[0m\u001b[37m\u001b[0m \u001b[1m6s\u001b[0m 7ms/step - accuracy: 0.5019 - loss: 1.3915\n",
      "Epoch 11/30\n",
      "\u001b[1m782/782\u001b[0m \u001b[32m━━━━━━━━━━━━━━━━━━━━\u001b[0m\u001b[37m\u001b[0m \u001b[1m6s\u001b[0m 8ms/step - accuracy: 0.5186 - loss: 1.3544\n",
      "Epoch 12/30\n",
      "\u001b[1m782/782\u001b[0m \u001b[32m━━━━━━━━━━━━━━━━━━━━\u001b[0m\u001b[37m\u001b[0m \u001b[1m6s\u001b[0m 7ms/step - accuracy: 0.5232 - loss: 1.3417\n",
      "Epoch 13/30\n",
      "\u001b[1m782/782\u001b[0m \u001b[32m━━━━━━━━━━━━━━━━━━━━\u001b[0m\u001b[37m\u001b[0m \u001b[1m6s\u001b[0m 7ms/step - accuracy: 0.5250 - loss: 1.3228\n",
      "Epoch 14/30\n",
      "\u001b[1m782/782\u001b[0m \u001b[32m━━━━━━━━━━━━━━━━━━━━\u001b[0m\u001b[37m\u001b[0m \u001b[1m5s\u001b[0m 7ms/step - accuracy: 0.5313 - loss: 1.3073\n",
      "Epoch 15/30\n",
      "\u001b[1m782/782\u001b[0m \u001b[32m━━━━━━━━━━━━━━━━━━━━\u001b[0m\u001b[37m\u001b[0m \u001b[1m5s\u001b[0m 7ms/step - accuracy: 0.5370 - loss: 1.2939\n",
      "Epoch 16/30\n",
      "\u001b[1m782/782\u001b[0m \u001b[32m━━━━━━━━━━━━━━━━━━━━\u001b[0m\u001b[37m\u001b[0m \u001b[1m5s\u001b[0m 7ms/step - accuracy: 0.5411 - loss: 1.2806\n",
      "Epoch 17/30\n",
      "\u001b[1m782/782\u001b[0m \u001b[32m━━━━━━━━━━━━━━━━━━━━\u001b[0m\u001b[37m\u001b[0m \u001b[1m5s\u001b[0m 7ms/step - accuracy: 0.5525 - loss: 1.2512\n",
      "Epoch 18/30\n",
      "\u001b[1m782/782\u001b[0m \u001b[32m━━━━━━━━━━━━━━━━━━━━\u001b[0m\u001b[37m\u001b[0m \u001b[1m6s\u001b[0m 7ms/step - accuracy: 0.5557 - loss: 1.2445\n",
      "Epoch 19/30\n",
      "\u001b[1m782/782\u001b[0m \u001b[32m━━━━━━━━━━━━━━━━━━━━\u001b[0m\u001b[37m\u001b[0m \u001b[1m6s\u001b[0m 8ms/step - accuracy: 0.5603 - loss: 1.2341\n",
      "Epoch 20/30\n",
      "\u001b[1m782/782\u001b[0m \u001b[32m━━━━━━━━━━━━━━━━━━━━\u001b[0m\u001b[37m\u001b[0m \u001b[1m6s\u001b[0m 7ms/step - accuracy: 0.5596 - loss: 1.2245\n",
      "Epoch 21/30\n",
      "\u001b[1m782/782\u001b[0m \u001b[32m━━━━━━━━━━━━━━━━━━━━\u001b[0m\u001b[37m\u001b[0m \u001b[1m6s\u001b[0m 7ms/step - accuracy: 0.5698 - loss: 1.2046\n",
      "Epoch 22/30\n",
      "\u001b[1m782/782\u001b[0m \u001b[32m━━━━━━━━━━━━━━━━━━━━\u001b[0m\u001b[37m\u001b[0m \u001b[1m6s\u001b[0m 7ms/step - accuracy: 0.5726 - loss: 1.1997\n",
      "Epoch 23/30\n",
      "\u001b[1m782/782\u001b[0m \u001b[32m━━━━━━━━━━━━━━━━━━━━\u001b[0m\u001b[37m\u001b[0m \u001b[1m6s\u001b[0m 7ms/step - accuracy: 0.5689 - loss: 1.1971\n",
      "Epoch 24/30\n",
      "\u001b[1m782/782\u001b[0m \u001b[32m━━━━━━━━━━━━━━━━━━━━\u001b[0m\u001b[37m\u001b[0m \u001b[1m6s\u001b[0m 8ms/step - accuracy: 0.5787 - loss: 1.1742\n",
      "Epoch 25/30\n",
      "\u001b[1m782/782\u001b[0m \u001b[32m━━━━━━━━━━━━━━━━━━━━\u001b[0m\u001b[37m\u001b[0m \u001b[1m6s\u001b[0m 8ms/step - accuracy: 0.5856 - loss: 1.1583\n",
      "Epoch 26/30\n",
      "\u001b[1m782/782\u001b[0m \u001b[32m━━━━━━━━━━━━━━━━━━━━\u001b[0m\u001b[37m\u001b[0m \u001b[1m6s\u001b[0m 7ms/step - accuracy: 0.5842 - loss: 1.1538\n",
      "Epoch 27/30\n",
      "\u001b[1m782/782\u001b[0m \u001b[32m━━━━━━━━━━━━━━━━━━━━\u001b[0m\u001b[37m\u001b[0m \u001b[1m6s\u001b[0m 8ms/step - accuracy: 0.5872 - loss: 1.1475\n",
      "Epoch 28/30\n",
      "\u001b[1m782/782\u001b[0m \u001b[32m━━━━━━━━━━━━━━━━━━━━\u001b[0m\u001b[37m\u001b[0m \u001b[1m6s\u001b[0m 8ms/step - accuracy: 0.5879 - loss: 1.1524\n",
      "Epoch 29/30\n",
      "\u001b[1m782/782\u001b[0m \u001b[32m━━━━━━━━━━━━━━━━━━━━\u001b[0m\u001b[37m\u001b[0m \u001b[1m6s\u001b[0m 7ms/step - accuracy: 0.6025 - loss: 1.1196\n",
      "Epoch 30/30\n",
      "\u001b[1m782/782\u001b[0m \u001b[32m━━━━━━━━━━━━━━━━━━━━\u001b[0m\u001b[37m\u001b[0m \u001b[1m6s\u001b[0m 7ms/step - accuracy: 0.6011 - loss: 1.1157\n"
     ]
    }
   ],
   "source": [
    "fit = model.fit(x_train,y_train , epochs=30 , batch_size=64)"
   ]
  },
  {
   "cell_type": "code",
   "execution_count": 46,
   "metadata": {},
   "outputs": [
    {
     "data": {
      "image/png": "[encoded data removed]",
      "text/plain": [
       "<Figure size 640x480 with 1 Axes>"
      ]
     },
     "metadata": {},
     "output_type": "display_data"
    }
   ],
   "source": [
    "# Doğruluk grafiği\n",
    "plt.plot(fit.history['accuracy'], label='Training Accuracy')\n",
    "plt.plot(fit.history['accuracy'], label='Validation Accuracy')\n",
    "plt.title('Model Accuracy')\n",
    "plt.xlabel('Epochs')\n",
    "plt.ylabel('Accuracy')\n",
    "plt.legend()\n",
    "plt.show()"
   ]
  },
  {
   "cell_type": "code",
   "execution_count": 47,
   "metadata": {},
   "outputs": [
    {
     "name": "stdout",
     "output_type": "stream",
     "text": [
      "\u001b[1m313/313\u001b[0m \u001b[32m━━━━━━━━━━━━━━━━━━━━\u001b[0m\u001b[37m\u001b[0m \u001b[1m0s\u001b[0m 1ms/step\n"
     ]
    }
   ],
   "source": [
    "pred = model.predict(x_test)"
   ]
  },
  {
   "cell_type": "code",
   "execution_count": 48,
   "metadata": {},
   "outputs": [],
   "source": [
    "prediction =np.argmax(pred , axis=1)"
   ]
  },
  {
   "cell_type": "code",
   "execution_count": 49,
   "metadata": {},
   "outputs": [],
   "source": [
    "accuracy = np.argmax(y_test , axis=1)"
   ]
  },
  {
   "cell_type": "code",
   "execution_count": 50,
   "metadata": {},
   "outputs": [
    {
     "data": {
      "image/png": "[encoded data removed]",
      "text/plain": [
       "<Figure size 640x480 with 1 Axes>"
      ]
     },
     "metadata": {},
     "output_type": "display_data"
    },
    {
     "data": {
      "image/png": "[encoded data removed]",
      "text/plain": [
       "<Figure size 640x480 with 1 Axes>"
      ]
     },
     "metadata": {},
     "output_type": "display_data"
    }
   ],
   "source": [
    "\n",
    "\n",
    "# Kayıp grafiği\n",
    "plt.plot(fit.history['loss'], label='Training Loss')\n",
    "plt.plot(fit.history['accuracy'], label='Validation Loss')\n",
    "plt.title('Loss during Training')\n",
    "plt.xlabel('Epochs')\n",
    "plt.ylabel('Loss')\n",
    "plt.legend()\n",
    "plt.show()\n",
    "\n",
    "# Doğruluk grafiği\n",
    "plt.plot(fit.history['accuracy'], label='Training Accuracy')\n",
    "plt.plot(fit.history['loss'], label='Validation Accuracy')\n",
    "plt.title('Accuracy during Training')\n",
    "plt.xlabel('Epochs')\n",
    "plt.ylabel('Accuracy')\n",
    "plt.legend()\n",
    "plt.show()\n"
   ]
  },
  {
   "cell_type": "code",
   "execution_count": 51,
   "metadata": {},
   "outputs": [],
   "source": [
    "from sklearn.metrics import classification_report, confusion_matrix"
   ]
  },
  {
   "cell_type": "code",
   "execution_count": 52,
   "metadata": {},
   "outputs": [
    {
     "name": "stdout",
     "output_type": "stream",
     "text": [
      "Confusion Matrix:\n",
      "[[545  61  49  23  44  23  19  35 169  32]\n",
      " [ 35 679  14  17  14  15  14  23  63 126]\n",
      " [ 75  35 368  65 142  80 113  58  40  24]\n",
      " [ 23  33 105 277  95 191 140  57  39  40]\n",
      " [ 41  16 130  53 492  42 114  64  39   9]\n",
      " [ 20  19  89 165 103 396  86  64  31  27]\n",
      " [ 14  29  82  83 124  43 578  10  20  17]\n",
      " [ 34  23  70  59 124  75  30 518  25  42]\n",
      " [ 84  81  14  13  31  11   6  21 689  50]\n",
      " [ 44 233  12  27  10  22  27  51  78 496]]\n"
     ]
    }
   ],
   "source": [
    "print(\"Confusion Matrix:\")\n",
    "print(confusion_matrix(accuracy, prediction))"
   ]
  },
  {
   "cell_type": "code",
   "execution_count": 53,
   "metadata": {},
   "outputs": [
    {
     "name": "stdout",
     "output_type": "stream",
     "text": [
      "              precision    recall  f1-score   support\n",
      "\n",
      "           0       0.60      0.55      0.57      1000\n",
      "           1       0.56      0.68      0.61      1000\n",
      "           2       0.39      0.37      0.38      1000\n",
      "           3       0.35      0.28      0.31      1000\n",
      "           4       0.42      0.49      0.45      1000\n",
      "           5       0.44      0.40      0.42      1000\n",
      "           6       0.51      0.58      0.54      1000\n",
      "           7       0.57      0.52      0.54      1000\n",
      "           8       0.58      0.69      0.63      1000\n",
      "           9       0.57      0.50      0.53      1000\n",
      "\n",
      "    accuracy                           0.50     10000\n",
      "   macro avg       0.50      0.50      0.50     10000\n",
      "weighted avg       0.50      0.50      0.50     10000\n",
      "\n"
     ]
    }
   ],
   "source": [
    "print(classification_report(accuracy , prediction))\n"
   ]
  },
  {
   "cell_type": "markdown",
   "metadata": {},
   "source": [
    "# MODELİ DAHA İYİ HALE GETİRELİM\n"
   ]
  },
  {
   "cell_type": "code",
   "execution_count": 20,
   "metadata": {},
   "outputs": [],
   "source": [
    "from tensorflow.keras.layers import BatchNormalization\n",
    "\n",
    "model = Sequential([\n",
    "    Flatten(input_shape=(32, 32, 3)),\n",
    "    Dense(512, activation=\"relu\"),\n",
    "    BatchNormalization(),\n",
    "    Dense(256, activation=\"relu\"),\n",
    "    BatchNormalization(),\n",
    "    Dense(128, activation=\"relu\"),\n",
    "    Dense(10, activation=\"softmax\")\n",
    "])\n"
   ]
  },
  {
   "cell_type": "code",
   "execution_count": 21,
   "metadata": {},
   "outputs": [],
   "source": [
    "model.compile(optimizer=Adam(learning_rate=0.001), loss=\"categorical_crossentropy\" , metrics=[\"accuracy\"])"
   ]
  },
  {
   "cell_type": "code",
   "execution_count": 22,
   "metadata": {},
   "outputs": [],
   "source": [
    "from tensorflow.keras.preprocessing.image import ImageDataGenerator\n",
    "\n",
    "datagen = ImageDataGenerator(\n",
    "    rotation_range=20,\n",
    "    width_shift_range=0.2,\n",
    "    height_shift_range=0.2,\n",
    "    shear_range=0.2,\n",
    "    zoom_range=0.2,\n",
    "    horizontal_flip=True,\n",
    "    fill_mode='nearest'\n",
    ")\n",
    "\n",
    "datagen.fit(x_train)\n"
   ]
  },
  {
   "cell_type": "markdown",
   "metadata": {},
   "source": [
    "Veri augmentasyonu, eğitim verisinde yapay olarak çeşitlilik oluşturup modelin daha genel öğrenmesini sağlar, yani daha fazla çeşitlilikle eğitim yapılmasını sağlar."
   ]
  },
  {
   "cell_type": "markdown",
   "metadata": {},
   "source": [
    "1. rotation_range=20:\n",
    "Bu parametre, görüntülerin rastgele döndürülmesine olanak tanır. Burada 20 değeri, görüntülerin 20 dereceye kadar dönebilmesi anlamına gelir. Bu, modelin nesneleri farklı açılarda da tanıyabilmesini sağlar.\n",
    "\n",
    "2. width_shift_range=0.2:\n",
    "Bu parametre, görüntülerin yatayda (%20'ye kadar) kaymasına izin verir. Yani, resmin yatayda sağa veya sola kaydırılmasını sağlar. Bu, modelin nesneleri farklı konumlarda da tanıyabilmesini sağlar.\n",
    "\n",
    "3. height_shift_range=0.2:\n",
    "Bu, görüntülerin dikeyde (%20'ye kadar) kaymasına olanak tanır. Görüntü, yukarı veya aşağıya kaydırılabilir. Bu da, modelin nesneleri farklı yüksekliklerde tanıyabilmesini sağlar.\n",
    "\n",
    "4. shear_range=0.2:\n",
    "Bu parametre, görüntülerin \"shear\" (deformasyon) işlemi ile eğilmesini sağlar. Yani, resim belirli bir açıyla eğilebilir. Bu, modelin deformasyona uğramış nesneleri de öğrenmesini sağlar.\n",
    "\n",
    "5. zoom_range=0.2:\n",
    "Bu parametre, görüntüleri rastgele büyütme (zoom in) veya küçültme (zoom out) işlemi yapar. %20 değeri, görüntünün %80 ile %120 arasında bir büyüklüğe getirilmesi anlamına gelir. Bu, modelin nesneleri farklı boyutlarda tanıyabilmesini sağlar.\n",
    "\n",
    "6. horizontal_flip=True:\n",
    "Bu parametre, görüntülerin yatayda rastgele çevrilmesine (tersine döndürülmesine) olanak tanır. Bu, özellikle simetrik nesneleri tanıma yeteneğini artırır.\n",
    "\n",
    "7. fill_mode='nearest':\n",
    "Bu parametre, dönüşüm sırasında oluşabilecek boş alanların nasıl doldurulacağını belirler. nearest yöntemi, boş kalan alanları en yakın piksel değeriyle doldurur. Bu, dönüşüm sırasında kaybolan piksellerin yerine doğru değerlerin yerleştirilmesine yardımcı olur.\n",
    "\n",
    "Özetle:\n",
    "Bu parametreler, ImageDataGenerator'ın uygulayabileceği çeşitli veri augmentasyonu dönüşümleridir. Amacı, eğitim verisinin çeşitlendirilmesi ve böylece modelin daha sağlam ve genel öğrenmesidir."
   ]
  },
  {
   "cell_type": "code",
   "execution_count": 23,
   "metadata": {},
   "outputs": [
    {
     "name": "stdout",
     "output_type": "stream",
     "text": [
      "Epoch 1/32\n",
      "\u001b[1m782/782\u001b[0m \u001b[32m━━━━━━━━━━━━━━━━━━━━\u001b[0m\u001b[37m\u001b[0m \u001b[1m16s\u001b[0m 18ms/step - accuracy: 0.3549 - loss: 1.8269 - val_accuracy: 0.3469 - val_loss: 1.8720\n",
      "Epoch 2/32\n",
      "\u001b[1m782/782\u001b[0m \u001b[32m━━━━━━━━━━━━━━━━━━━━\u001b[0m\u001b[37m\u001b[0m \u001b[1m15s\u001b[0m 19ms/step - accuracy: 0.4592 - loss: 1.5206 - val_accuracy: 0.2924 - val_loss: 2.1086\n",
      "Epoch 3/32\n",
      "\u001b[1m782/782\u001b[0m \u001b[32m━━━━━━━━━━━━━━━━━━━━\u001b[0m\u001b[37m\u001b[0m \u001b[1m15s\u001b[0m 19ms/step - accuracy: 0.4865 - loss: 1.4413 - val_accuracy: 0.4188 - val_loss: 1.6227\n",
      "Epoch 4/32\n",
      "\u001b[1m782/782\u001b[0m \u001b[32m━━━━━━━━━━━━━━━━━━━━\u001b[0m\u001b[37m\u001b[0m \u001b[1m13s\u001b[0m 16ms/step - accuracy: 0.5211 - loss: 1.3448 - val_accuracy: 0.4196 - val_loss: 1.6380\n",
      "Epoch 5/32\n",
      "\u001b[1m782/782\u001b[0m \u001b[32m━━━━━━━━━━━━━━━━━━━━\u001b[0m\u001b[37m\u001b[0m \u001b[1m11s\u001b[0m 14ms/step - accuracy: 0.5410 - loss: 1.2975 - val_accuracy: 0.4915 - val_loss: 1.4389\n",
      "Epoch 6/32\n",
      "\u001b[1m782/782\u001b[0m \u001b[32m━━━━━━━━━━━━━━━━━━━━\u001b[0m\u001b[37m\u001b[0m \u001b[1m15s\u001b[0m 19ms/step - accuracy: 0.5584 - loss: 1.2455 - val_accuracy: 0.4885 - val_loss: 1.4633\n",
      "Epoch 7/32\n",
      "\u001b[1m782/782\u001b[0m \u001b[32m━━━━━━━━━━━━━━━━━━━━\u001b[0m\u001b[37m\u001b[0m \u001b[1m15s\u001b[0m 19ms/step - accuracy: 0.5718 - loss: 1.2045 - val_accuracy: 0.4979 - val_loss: 1.4466\n",
      "Epoch 8/32\n",
      "\u001b[1m782/782\u001b[0m \u001b[32m━━━━━━━━━━━━━━━━━━━━\u001b[0m\u001b[37m\u001b[0m \u001b[1m13s\u001b[0m 17ms/step - accuracy: 0.5849 - loss: 1.1713 - val_accuracy: 0.4777 - val_loss: 1.5296\n",
      "Epoch 9/32\n",
      "\u001b[1m782/782\u001b[0m \u001b[32m━━━━━━━━━━━━━━━━━━━━\u001b[0m\u001b[37m\u001b[0m \u001b[1m14s\u001b[0m 18ms/step - accuracy: 0.5984 - loss: 1.1215 - val_accuracy: 0.5089 - val_loss: 1.4024\n",
      "Epoch 10/32\n",
      "\u001b[1m782/782\u001b[0m \u001b[32m━━━━━━━━━━━━━━━━━━━━\u001b[0m\u001b[37m\u001b[0m \u001b[1m16s\u001b[0m 20ms/step - accuracy: 0.6111 - loss: 1.0970 - val_accuracy: 0.4968 - val_loss: 1.4532\n",
      "Epoch 11/32\n",
      "\u001b[1m782/782\u001b[0m \u001b[32m━━━━━━━━━━━━━━━━━━━━\u001b[0m\u001b[37m\u001b[0m \u001b[1m16s\u001b[0m 21ms/step - accuracy: 0.6160 - loss: 1.0668 - val_accuracy: 0.4875 - val_loss: 1.4852\n",
      "Epoch 12/32\n",
      "\u001b[1m782/782\u001b[0m \u001b[32m━━━━━━━━━━━━━━━━━━━━\u001b[0m\u001b[37m\u001b[0m \u001b[1m14s\u001b[0m 17ms/step - accuracy: 0.6278 - loss: 1.0440 - val_accuracy: 0.4886 - val_loss: 1.5258\n",
      "Epoch 13/32\n",
      "\u001b[1m782/782\u001b[0m \u001b[32m━━━━━━━━━━━━━━━━━━━━\u001b[0m\u001b[37m\u001b[0m \u001b[1m12s\u001b[0m 16ms/step - accuracy: 0.6380 - loss: 1.0128 - val_accuracy: 0.5033 - val_loss: 1.4582\n",
      "Epoch 14/32\n",
      "\u001b[1m782/782\u001b[0m \u001b[32m━━━━━━━━━━━━━━━━━━━━\u001b[0m\u001b[37m\u001b[0m \u001b[1m14s\u001b[0m 18ms/step - accuracy: 0.6467 - loss: 0.9913 - val_accuracy: 0.5057 - val_loss: 1.4808\n",
      "Epoch 15/32\n",
      "\u001b[1m782/782\u001b[0m \u001b[32m━━━━━━━━━━━━━━━━━━━━\u001b[0m\u001b[37m\u001b[0m \u001b[1m13s\u001b[0m 16ms/step - accuracy: 0.6524 - loss: 0.9675 - val_accuracy: 0.5059 - val_loss: 1.4897\n",
      "Epoch 16/32\n",
      "\u001b[1m782/782\u001b[0m \u001b[32m━━━━━━━━━━━━━━━━━━━━\u001b[0m\u001b[37m\u001b[0m \u001b[1m11s\u001b[0m 14ms/step - accuracy: 0.6677 - loss: 0.9328 - val_accuracy: 0.5100 - val_loss: 1.4828\n",
      "Epoch 17/32\n",
      "\u001b[1m782/782\u001b[0m \u001b[32m━━━━━━━━━━━━━━━━━━━━\u001b[0m\u001b[37m\u001b[0m \u001b[1m12s\u001b[0m 16ms/step - accuracy: 0.6745 - loss: 0.9116 - val_accuracy: 0.4686 - val_loss: 1.5969\n",
      "Epoch 18/32\n",
      "\u001b[1m782/782\u001b[0m \u001b[32m━━━━━━━━━━━━━━━━━━━━\u001b[0m\u001b[37m\u001b[0m \u001b[1m15s\u001b[0m 20ms/step - accuracy: 0.6837 - loss: 0.8870 - val_accuracy: 0.5027 - val_loss: 1.5467\n",
      "Epoch 19/32\n",
      "\u001b[1m782/782\u001b[0m \u001b[32m━━━━━━━━━━━━━━━━━━━━\u001b[0m\u001b[37m\u001b[0m \u001b[1m15s\u001b[0m 19ms/step - accuracy: 0.6841 - loss: 0.8773 - val_accuracy: 0.4743 - val_loss: 1.6453\n",
      "Epoch 20/32\n",
      "\u001b[1m782/782\u001b[0m \u001b[32m━━━━━━━━━━━━━━━━━━━━\u001b[0m\u001b[37m\u001b[0m \u001b[1m15s\u001b[0m 19ms/step - accuracy: 0.6956 - loss: 0.8564 - val_accuracy: 0.4733 - val_loss: 1.6287\n",
      "Epoch 21/32\n",
      "\u001b[1m782/782\u001b[0m \u001b[32m━━━━━━━━━━━━━━━━━━━━\u001b[0m\u001b[37m\u001b[0m \u001b[1m16s\u001b[0m 20ms/step - accuracy: 0.6982 - loss: 0.8444 - val_accuracy: 0.4529 - val_loss: 1.7803\n",
      "Epoch 22/32\n",
      "\u001b[1m782/782\u001b[0m \u001b[32m━━━━━━━━━━━━━━━━━━━━\u001b[0m\u001b[37m\u001b[0m \u001b[1m16s\u001b[0m 20ms/step - accuracy: 0.7051 - loss: 0.8189 - val_accuracy: 0.4884 - val_loss: 1.6125\n",
      "Epoch 23/32\n",
      "\u001b[1m782/782\u001b[0m \u001b[32m━━━━━━━━━━━━━━━━━━━━\u001b[0m\u001b[37m\u001b[0m \u001b[1m15s\u001b[0m 19ms/step - accuracy: 0.7108 - loss: 0.8061 - val_accuracy: 0.4822 - val_loss: 1.6611\n",
      "Epoch 24/32\n",
      "\u001b[1m782/782\u001b[0m \u001b[32m━━━━━━━━━━━━━━━━━━━━\u001b[0m\u001b[37m\u001b[0m \u001b[1m15s\u001b[0m 19ms/step - accuracy: 0.7124 - loss: 0.7943 - val_accuracy: 0.5111 - val_loss: 1.5623\n",
      "Epoch 25/32\n",
      "\u001b[1m782/782\u001b[0m \u001b[32m━━━━━━━━━━━━━━━━━━━━\u001b[0m\u001b[37m\u001b[0m \u001b[1m16s\u001b[0m 20ms/step - accuracy: 0.7260 - loss: 0.7713 - val_accuracy: 0.5003 - val_loss: 1.6466\n",
      "Epoch 26/32\n",
      "\u001b[1m782/782\u001b[0m \u001b[32m━━━━━━━━━━━━━━━━━━━━\u001b[0m\u001b[37m\u001b[0m \u001b[1m13s\u001b[0m 16ms/step - accuracy: 0.7269 - loss: 0.7555 - val_accuracy: 0.5010 - val_loss: 1.6405\n",
      "Epoch 27/32\n",
      "\u001b[1m782/782\u001b[0m \u001b[32m━━━━━━━━━━━━━━━━━━━━\u001b[0m\u001b[37m\u001b[0m \u001b[1m15s\u001b[0m 19ms/step - accuracy: 0.7359 - loss: 0.7363 - val_accuracy: 0.5226 - val_loss: 1.6064\n",
      "Epoch 28/32\n",
      "\u001b[1m782/782\u001b[0m \u001b[32m━━━━━━━━━━━━━━━━━━━━\u001b[0m\u001b[37m\u001b[0m \u001b[1m15s\u001b[0m 20ms/step - accuracy: 0.7464 - loss: 0.7104 - val_accuracy: 0.4955 - val_loss: 1.6950\n",
      "Epoch 29/32\n",
      "\u001b[1m782/782\u001b[0m \u001b[32m━━━━━━━━━━━━━━━━━━━━\u001b[0m\u001b[37m\u001b[0m \u001b[1m14s\u001b[0m 18ms/step - accuracy: 0.7396 - loss: 0.7186 - val_accuracy: 0.4937 - val_loss: 1.7026\n",
      "Epoch 30/32\n",
      "\u001b[1m782/782\u001b[0m \u001b[32m━━━━━━━━━━━━━━━━━━━━\u001b[0m\u001b[37m\u001b[0m \u001b[1m13s\u001b[0m 17ms/step - accuracy: 0.7534 - loss: 0.6902 - val_accuracy: 0.5044 - val_loss: 1.7425\n",
      "Epoch 31/32\n",
      "\u001b[1m782/782\u001b[0m \u001b[32m━━━━━━━━━━━━━━━━━━━━\u001b[0m\u001b[37m\u001b[0m \u001b[1m13s\u001b[0m 17ms/step - accuracy: 0.7535 - loss: 0.6825 - val_accuracy: 0.5002 - val_loss: 1.7352\n",
      "Epoch 32/32\n",
      "\u001b[1m782/782\u001b[0m \u001b[32m━━━━━━━━━━━━━━━━━━━━\u001b[0m\u001b[37m\u001b[0m \u001b[1m15s\u001b[0m 19ms/step - accuracy: 0.7553 - loss: 0.6763 - val_accuracy: 0.5066 - val_loss: 1.7220\n"
     ]
    }
   ],
   "source": [
    "\n",
    "fit = model.fit(x_train, y_train, epochs=32, batch_size=64, validation_data=(x_test, y_test))\n"
   ]
  },
  {
   "cell_type": "markdown",
   "metadata": {},
   "source": [
    "# YUKARIDA YAZAN 782 NE ANLAMA GELİYOR ?"
   ]
  },
  {
   "cell_type": "markdown",
   "metadata": {},
   "source": [
    "CIFAR-10 eğitim seti toplam 50,000 görüntüden oluşuyor.\n",
    "\n",
    "Batch size = 64\n",
    "\n",
    "Toplam batch sayısı şu şekilde hesaplanır:\n",
    "\n",
    "\n",
    "* * * (TOPLAM VERİ SAYISI) / (BATCH SAYISI) \n",
    "\n",
    "=> \n",
    "50,000/ 64\n",
    "\n",
    "​\n",
    " ≈781.25"
   ]
  },
  {
   "cell_type": "markdown",
   "metadata": {},
   "source": [
    "# Val_loss ve Val_accuracy için neden farklı batch sayısı var?\n",
    "Test setinde 10,000 görüntü var.\n",
    "Bu yüzden batch sayısı:\n",
    "\n",
    "10.000 / 64\n",
    "​\n",
    " = 156.25 ≈ 157\n",
    "\n",
    "Validation seti için batch sayısı 157 olacak."
   ]
  },
  {
   "cell_type": "markdown",
   "metadata": {},
   "source": [
    "📌 Özetle\n",
    "\n",
    "782 → Eğitim veri setinin batch sayısı.\n",
    "\n",
    "Batch sayısı, veri seti büyüklüğüne ve batch_size’a göre belirlenir.\n",
    "\n",
    "Validation setinde batch sayısı farklı olabilir."
   ]
  },
  {
   "cell_type": "code",
   "execution_count": 24,
   "metadata": {},
   "outputs": [
    {
     "data": {
      "image/png": "[encoded data removed]",
      "text/plain": [
       "<Figure size 640x480 with 1 Axes>"
      ]
     },
     "metadata": {},
     "output_type": "display_data"
    },
    {
     "data": {
      "image/png": "[encoded data removed]",
      "text/plain": [
       "<Figure size 640x480 with 1 Axes>"
      ]
     },
     "metadata": {},
     "output_type": "display_data"
    }
   ],
   "source": [
    "# Doğruluk grafiği\n",
    "plt.plot(fit.history['accuracy'], label='Training Accuracy')\n",
    "plt.plot(fit.history['val_accuracy'], label='Validation Accuracy')\n",
    "plt.title('Model Accuracy')\n",
    "plt.xlabel('Epochs')\n",
    "plt.ylabel('Accuracy')\n",
    "plt.legend()\n",
    "plt.show()\n",
    "\n",
    "# Kayıp grafiği\n",
    "plt.plot(fit.history['loss'], label='Training Loss')\n",
    "plt.plot(fit.history['val_loss'], label='Validation Loss')\n",
    "plt.title('Loss during Training')\n",
    "plt.xlabel('Epochs')\n",
    "plt.ylabel('Loss')\n",
    "plt.legend()\n",
    "plt.show()\n"
   ]
  },
  {
   "cell_type": "code",
   "execution_count": 25,
   "metadata": {},
   "outputs": [
    {
     "name": "stdout",
     "output_type": "stream",
     "text": [
      "\u001b[1m313/313\u001b[0m \u001b[32m━━━━━━━━━━━━━━━━━━━━\u001b[0m\u001b[37m\u001b[0m \u001b[1m1s\u001b[0m 2ms/step\n"
     ]
    }
   ],
   "source": [
    "pred = model.predict(x_test)\n"
   ]
  },
  {
   "cell_type": "code",
   "execution_count": 26,
   "metadata": {},
   "outputs": [],
   "source": [
    "pred_value = np.argmax(pred,axis=1)\n",
    "accuracy_value = np.argmax(y_test,axis=1)"
   ]
  },
  {
   "cell_type": "code",
   "execution_count": 27,
   "metadata": {},
   "outputs": [
    {
     "name": "stdout",
     "output_type": "stream",
     "text": [
      "              precision    recall  f1-score   support\n",
      "\n",
      "           0       0.58      0.57      0.58      1000\n",
      "           1       0.58      0.61      0.60      1000\n",
      "           2       0.42      0.43      0.43      1000\n",
      "           3       0.37      0.27      0.31      1000\n",
      "           4       0.44      0.46      0.45      1000\n",
      "           5       0.39      0.49      0.43      1000\n",
      "           6       0.52      0.58      0.55      1000\n",
      "           7       0.58      0.55      0.56      1000\n",
      "           8       0.69      0.54      0.61      1000\n",
      "           9       0.53      0.56      0.54      1000\n",
      "\n",
      "    accuracy                           0.51     10000\n",
      "   macro avg       0.51      0.51      0.51     10000\n",
      "weighted avg       0.51      0.51      0.51     10000\n",
      "\n"
     ]
    }
   ],
   "source": [
    "print(classification_report(accuracy_value, pred_value))\n"
   ]
  },
  {
   "cell_type": "markdown",
   "metadata": {},
   "source": [
    "* Daha iyi yapalım derken... O kadar da eğitmiştik :) Peki neden çok daha iyi bir sonuç vermedi?"
   ]
  },
  {
   "cell_type": "markdown",
   "metadata": {},
   "source": [
    "# GELİN BUNLARI İNCELEYELİM"
   ]
  },
  {
   "cell_type": "markdown",
   "metadata": {},
   "source": [
    "### 1-) Modelin Derinliğini ve Yapısını Gözden Geçirmeyi deneyebiliriz:\n",
    "\n",
    "* Modelin çok derin olmaması gerekebilir; daha fazla katman bazen overfitting (aşırı öğrenme) yapabilir.\n",
    "* Dense katman sayısını artırmak yerine daha uygun bir derinlik belirlemek ve Dropout gibi düzenleme tekniklerini daha fazla kullanmak da faydalı olabilir."
   ]
  },
  {
   "cell_type": "code",
   "execution_count": 85,
   "metadata": {},
   "outputs": [],
   "source": [
    "# model = Sequential([\n",
    "#     Flatten(input_shape=(32, 32, 3)),\n",
    "#     Dense(1024, activation=\"relu\"),\n",
    "#     BatchNormalization(),\n",
    "#     Dense(512, activation=\"relu\"),\n",
    "#     BatchNormalization(),\n",
    "#     Dense(256, activation=\"relu\"),\n",
    "#     Dense(10, activation=\"softmax\")\n",
    "# ])\n"
   ]
  },
  {
   "cell_type": "markdown",
   "metadata": {},
   "source": [
    "### 2-) Daha Fazla Eğitim Süresi:\n",
    "\n",
    "* Eğitim süresini (epoch) artırarak modelin daha uzun süre öğrenmesini sağlayabiliriz. Eğitim süresi yeterli olmayabilir."
   ]
  },
  {
   "cell_type": "markdown",
   "metadata": {},
   "source": [
    "### 3-) Optimizasyon Parametrelerini Ayarlamak:\n",
    "\n",
    "* Learning rate parametresini düşürmeyi deneyebiliriz. Örneğin, 0.001 yerine daha küçük bir değer (örneğin 0.0001) ile başlayarak daha dikkatli bir öğrenme sağlanabilir."
   ]
  },
  {
   "cell_type": "markdown",
   "metadata": {},
   "source": [
    "### 4-) Kaybı ve Doğruluğu İzleyerek İlerlemek:\n",
    "\n",
    "* Modelin kayıp fonksiyonuna ve doğruluğuna dikkat etmek de önemli. Eğer kayıp fonksiyonu çok yüksekse, model hala iyi öğrenmiyor demek olabilir."
   ]
  },
  {
   "cell_type": "markdown",
   "metadata": {},
   "source": [
    "- val_loss değerleri:\n",
    "\n",
    "1.5348\n",
    "\n",
    "1.5822\n",
    "\n",
    "1.5266\n",
    "\n",
    "1.5857\n",
    "\n",
    "1.5713\n",
    "\n",
    "1.5881\n",
    "\n",
    "1.5117\n",
    "\n",
    "1.6172\n",
    "\n",
    "1.5868\n",
    "\n",
    "1.6215\n",
    "\n",
    "1.6475\n",
    "\n",
    "1.6783\n",
    "\n",
    "Fark ettiyseniz inişli çıkışlı ilerlemiş. Modelin son eğitim epochlarına bakarsanız 2 değerine kadar çıktığını göreceksiniz.Bu değerlerin azalması modelin sağlamlığını arttırırken , artması ise sağlamlığı düşürebilir.Buna dikkat ederek verinin doğru işlenip işlenmeyeceğini önceden yorumlamak mümkündür.\n",
    "\n",
    "\n",
    "\n",
    "\n",
    "\n"
   ]
  },
  {
   "cell_type": "markdown",
   "metadata": {},
   "source": [
    "### 5-) Augmentasyonu Eğitim Verisiyle Birleştirebiliriz:\n",
    "\n",
    "Eğitim verilerini artırırken flow metodu kullanmak da etkili olabilir. Veri artırmayı eğitimi yaparken uygulamak için şu şekilde kullanabiliriz:\n"
   ]
  },
  {
   "cell_type": "code",
   "execution_count": 83,
   "metadata": {},
   "outputs": [],
   "source": [
    "\n",
    "# train_generator = datagen.flow(x_train, y_train, batch_size=64)\n",
    "# model.fit(train_generator, epochs=32, validation_data=(x_test, y_test))"
   ]
  },
  {
   "cell_type": "markdown",
   "metadata": {},
   "source": [
    "* Augmentasyon deilen şey eğitim verilerini arttırarak modelin eğitimini daha çeşitli hale getirmek amacıyla kullanılıyor. Veri artırma (data augmentation), modelin daha genel ve dayanıklı hale gelmesini sağlayarak overfitting'i önlemeye yardımcı olur. flow metoduyla bu işlem dinamik olarak yapılır.\n",
    "\n",
    "* Aşağıda kodu yukarıda ise parametre açıklamaları mevcuttur."
   ]
  },
  {
   "cell_type": "code",
   "execution_count": 84,
   "metadata": {},
   "outputs": [],
   "source": [
    "# datagen = ImageDataGenerator(\n",
    "#     rotation_range=10,  # 20 yerine 10\n",
    "#     width_shift_range=0.1,  # 0.2 yerine 0.1\n",
    "#     height_shift_range=0.1,  # 0.2 yerine 0.1\n",
    "#     shear_range=0.1,  # 0.2 yerine 0.1\n",
    "#     zoom_range=0.1,  # 0.2 yerine 0.1\n",
    "#     horizontal_flip=True,\n",
    "#     fill_mode='nearest'\n",
    "# )\n"
   ]
  },
  {
   "cell_type": "markdown",
   "metadata": {},
   "source": [
    "### 6-) Kayıp Fonksiyonu (Loss Function):\n",
    "* categorical_crossentropy doğru kayıp fonksiyonu, ancak eğer veriler sınıflandırma problemine uygun değilse, kayıp fonksiyonunu değiştirmen gerekebilir. Kategorik etiketlerimizin doğru formatta olduğundan emin olmalıyız."
   ]
  },
  {
   "cell_type": "markdown",
   "metadata": {},
   "source": [
    "### 7-) Modelin Başlangıç Durumu (Initialization):\n",
    "* Eğer modelin başlangıç katmanlarının ağırlıkları kötü ayarlanmışsa, bu da doğruluğu olumsuz etkileyebilir. Xavier veya He Initialization kullanarak bu durumu iyileştirebilirsin."
   ]
  },
  {
   "cell_type": "markdown",
   "metadata": {},
   "source": [
    "\n",
    "### --- Birinci Durum => Xavier Initialization (Glorot Initialization):\n",
    "* Xavier başlatma, her katman için ağırlıkları uniform veya normal dağılımına göre başlatır ve genellikle sigmoid veya tanh aktivasyon fonksiyonlarıyla daha iyi sonuçlar verir."
   ]
  },
  {
   "cell_type": "code",
   "execution_count": 86,
   "metadata": {},
   "outputs": [],
   "source": [
    "\n",
    "\n",
    "# model = Sequential([\n",
    "#     Flatten(input_shape=(32, 32, 3)),\n",
    "#     Dense(512, activation=\"relu\", kernel_initializer=initializers.GlorotNormal()),  # Xavier initialization\n",
    "#     BatchNormalization(),\n",
    "#     Dense(256, activation=\"relu\", kernel_initializer=initializers.GlorotNormal()),  # Xavier initialization\n",
    "#     BatchNormalization(),\n",
    "#     Dense(128, activation=\"relu\", kernel_initializer=initializers.GlorotNormal()),  # Xavier initialization\n",
    "#     Dense(10, activation=\"softmax\", kernel_initializer=initializers.GlorotNormal())  # Xavier initialization\n",
    "# ])\n",
    "\n",
    "# model.compile(optimizer=Adam(learning_rate=0.001), loss=\"categorical_crossentropy\", metrics=[\"accuracy\"])\n"
   ]
  },
  {
   "cell_type": "markdown",
   "metadata": {},
   "source": [
    "### --- İkinci Durum =>He Initialization::\n",
    "* He başlatma, özellikle ReLU aktivasyon fonksiyonu ile daha iyi çalışır. Ağırlıkları, her katman için normal dağılımına göre başlatır ve 0 ortalamalı dağılımdan seçer."
   ]
  },
  {
   "cell_type": "code",
   "execution_count": 88,
   "metadata": {},
   "outputs": [],
   "source": [
    "\n",
    "# model = Sequential([\n",
    "#     Flatten(input_shape=(32, 32, 3)),\n",
    "#     Dense(512, activation=\"relu\", kernel_initializer=initializers.HeNormal()),  # He initialization\n",
    "#     BatchNormalization(),\n",
    "#     Dense(256, activation=\"relu\", kernel_initializer=initializers.HeNormal()),  # He initialization\n",
    "#     BatchNormalization(),\n",
    "#     Dense(128, activation=\"relu\", kernel_initializer=initializers.HeNormal()),  # He initialization\n",
    "#     Dense(10, activation=\"softmax\", kernel_initializer=initializers.HeNormal())  # He initialization\n",
    "# ])\n",
    "\n",
    "# model.compile(optimizer=Adam(learning_rate=0.001), loss=\"categorical_crossentropy\", metrics=[\"accuracy\"])\n"
   ]
  },
  {
   "cell_type": "markdown",
   "metadata": {},
   "source": [
    "### --- Hangisini Seçmeli?\n",
    "* He Initialization genellikle ReLU aktivasyon fonksiyonu kullanıldığında daha iyi performans sağlar, çünkü ReLU negatif değerler üretmediği için daha fazla değer öğrenilebilir.\n",
    "\n",
    "* Xavier Initialization daha çok sigmoid veya tanh gibi aktivasyon fonksiyonlarıyla iyi sonuç verir, çünkü bu fonksiyonlar daha geniş bir çıkış aralığına sahiptir."
   ]
  },
  {
   "cell_type": "markdown",
   "metadata": {},
   "source": [
    "### Batch Normalization (BN) Nedir?\n",
    "* Batch Normalization, her bir katmanın giriş verilerini normalize eder. Yani, her bir mini-batch'teki verilerin, belirli bir istatistiksel özelliğe (genellikle ortalama ve standart sapma) göre normalize edilmesi işlemi gerçekleştirilir. Böylece, her katmanda girişlerin daha \"dengeli\" hale gelmesi sağlanır.\n",
    "* Batch Normalization genellikle aktivasyon fonksiyonlarından önce uygulanır, yani bir katman çıktı olarak \n",
    "𝑥\n",
    "x verisini verirken, bu çıktı BN ile normalize edilip ardından aktivasyon fonksiyonu (ReLU, Sigmoid vb.) uygulanır."
   ]
  },
  {
   "cell_type": "code",
   "execution_count": 89,
   "metadata": {},
   "outputs": [],
   "source": [
    "# from tensorflow.keras.layers import BatchNormalization\n",
    "\n",
    "# model = Sequential([\n",
    "#     Dense(512, activation='relu', input_shape=(32, 32, 3)),\n",
    "#     BatchNormalization(),  # Batch Normalization ekleniyor\n",
    "#     Dense(256, activation='relu'),\n",
    "#     BatchNormalization(),\n",
    "#     Dense(128, activation='relu'),\n",
    "#     Dense(10, activation='softmax')\n",
    "# ])\n"
   ]
  },
  {
   "cell_type": "markdown",
   "metadata": {},
   "source": [
    "### 8-) TensorFlow/Keras'ta Learning Rate Scheduling Kullanımı\n",
    "\n",
    "* Learning Rate Scheduling (Öğrenme Hızı Zamanlaması), modelin öğrenme hızını eğitim sırasında dinamik olarak değiştirme yöntemidir. Genelde öğrenme hızının sabit bir değerle kalması yerine, zamanla (epoch sayısına göre) azalması daha verimli olabilir. Bu, modelin başlangıçta hızlı bir şekilde öğrenmesini sağlarken, daha sonra daha hassas ve ince ayarlar yapmasına olanak tanır. Öğrenme hızının doğru bir şekilde ayarlanması, daha hızlı ve etkili bir eğitim süreci sağlar.\n",
    "\n",
    "* Öğrenme hızı zamanlama, özellikle overfitting ve underfitting sorunlarını önlemek için kullanılır. Early stopping ile birlikte kullanıldığında, modelin en iyi doğruluğu elde etmesi sağlanabilir."
   ]
  },
  {
   "cell_type": "markdown",
   "metadata": {},
   "source": [
    "#### Yaygın Learning Rate Scheduling Yöntemleri:\n",
    "* Step Decay:\n",
    "\n",
    "-- Öğrenme hızını belirli bir epoch sayısına ulaşıldığında sabit oranda düşürür.\n",
    "\n",
    "-- Örneğin, her 10 epoch'ta bir öğrenme hızını yarıya indirebilirsiniz.\n",
    "\n"
   ]
  },
  {
   "cell_type": "code",
   "execution_count": null,
   "metadata": {},
   "outputs": [],
   "source": [
    "# from tensorflow.keras.optimizers.schedules import ExponentialDecay\n",
    "\n",
    "# # Başlangıç öğrenme hızı (initial_learning_rate)\n",
    "\n",
    "# initial_learning_rate = 0.001\n",
    "\n",
    "# # Öğrenme hızı üssel azalma planı\n",
    "\n",
    "# lr_schedule = ExponentialDecay(\n",
    "#     initial_learning_rate=initial_learning_rate,  # Başlangıç öğrenme hızı\n",
    "#     decay_steps=100000,  # Öğrenme hızının güncellenme sıklığı (her 100,000 adımda)\n",
    "#     decay_rate=0.96,  # Öğrenme hızının ne kadar azalacağı oranı (her decay_steps'te %4 azalma)\n",
    "#     staircase=True  # Eğer True ise, öğrenme hızı her decay_step'te belirli bir basamağa düşer (kesik kesik azalma)\n",
    "# )\n",
    "\n",
    "# # Modeli derlerken, öğrenme hızını bu planla güncelliyoruz\n",
    "# model.compile(optimizer=Adam(learning_rate=lr_schedule), loss='categorical_crossentropy', metrics=['accuracy'])\n"
   ]
  },
  {
   "cell_type": "markdown",
   "metadata": {},
   "source": [
    "* Exponential Decay:\n",
    "\n",
    "-- Öğrenme hızı, her epoch'ta belirli bir oranda üssel olarak azalır.\n",
    "\n",
    "-- Genellikle, lr = lr_initial * decay_rate ^ epoch şeklinde hesaplanır.\n",
    "\n"
   ]
  },
  {
   "cell_type": "code",
   "execution_count": null,
   "metadata": {},
   "outputs": [],
   "source": [
    "# # Başlangıç öğrenme hızı ve decay rate\n",
    "\n",
    "# initial_learning_rate = 0.001  # Başlangıçta kullanılacak öğrenme hızı\n",
    "# decay_rate = 0.96  # Öğrenme hızının her epoch'ta ne kadar azalacağı oranı\n",
    "\n",
    "# # Exponential decay fonksiyonu\n",
    "\n",
    "# def exponential_decay(epoch):\n",
    "#     # Öğrenme hızını her epoch'ta belirli bir oranda azalmış olarak hesaplarız\n",
    "#     return initial_learning_rate * decay_rate ** epoch\n",
    "\n",
    "# # Öğrenme hızı scheduler (öğrenme hızını dinamik olarak değiştirecek olan yapı)\n",
    "# lr_scheduler = LearningRateScheduler(exponential_decay)\n",
    "\n",
    "# # Modeli derlemek\n",
    "# model.compile(optimizer=Adam(), loss='categorical_crossentropy', metrics=['accuracy'])\n"
   ]
  },
  {
   "cell_type": "markdown",
   "metadata": {},
   "source": [
    "* Cosine Annealing:\n",
    "\n",
    "-- Öğrenme hızı, her epoch ilerledikçe bir kosinüs fonksiyonu gibi azalır ve eğitim sonunda sıfıra yaklaşır.\n",
    "\n",
    "-- Bu, öğrenme hızını daha yumuşak bir şekilde düşürerek modelin genel performansını artırabilir.\n"
   ]
  },
  {
   "cell_type": "code",
   "execution_count": 98,
   "metadata": {},
   "outputs": [],
   "source": [
    "# # from tensorflow.keras.optimizers.schedules import CosineDecay\n",
    "\n",
    "# # Başlangıç öğrenme hızı\n",
    "# initial_learning_rate = 0.001\n",
    "\n",
    "# # Cosine decay fonksiyonu\n",
    "\n",
    "# lr_schedule = CosineDecay(\n",
    "#     initial_learning_rate=initial_learning_rate,  # Başlangıç öğrenme hızı\n",
    "#     decay_steps=1000  # Öğrenme hızının ne kadar sürede (steps) değişeceğini belirler\n",
    "# )\n",
    "\n",
    "# # Modeli derlemek\n",
    "# model.compile(optimizer=Adam(learning_rate=lr_schedule), loss='categorical_crossentropy', metrics=['accuracy'])\n"
   ]
  },
  {
   "cell_type": "markdown",
   "metadata": {},
   "source": [
    "\n",
    "* ReduceLROnPlateau:\n",
    "\n",
    "-- Eğer model doğruluğu bir süre sabit kalırsa, öğrenme hızını otomatik olarak azaltır.\n",
    "\n",
    "-- Bu, özellikle doğruluk sabitlenmeye başladığında ve modelin daha fazla öğrenmeye başlamasını sağlamak gerektiğinde kullanışlıdır."
   ]
  },
  {
   "cell_type": "code",
   "execution_count": 99,
   "metadata": {},
   "outputs": [],
   "source": [
    "# from tensorflow.keras.callbacks import ReduceLROnPlateau\n",
    "\n",
    "# # Öğrenme hızı azalma callback fonksiyonu\n",
    "# lr_reduction = ReduceLROnPlateau(\n",
    "#     monitor='val_loss',   # İzlenecek metrik, burada doğrulama kaybı izleniyor\n",
    "#     patience=5,           # 5 epoch boyunca iyileşme olmazsa, öğrenme hızı azaltılır\n",
    "#     verbose=1,            # Öğrenme hızının değiştiğini terminalde yazdırmak\n",
    "#     factor=0.5,           # Öğrenme hızı ne kadar azalacak, burada 0.5 ile yarıya indirilecek\n",
    "#     min_lr=1e-6           # Öğrenme hızının minimum değeri, 1e-6'ya kadar inebilir\n",
    "# )\n",
    "\n",
    "# # Modeli eğitmek\n",
    "# model.fit(\n",
    "#     x_train, y_train,                    # Eğitim verisi\n",
    "#     epochs=50,                           # Eğitim süresi (epoch)\n",
    "#     validation_data=(x_test, y_test),    # Doğrulama verisi\n",
    "#     callbacks=[lr_reduction]             # Callback fonksiyonu\n",
    "# )\n"
   ]
  },
  {
   "cell_type": "markdown",
   "metadata": {},
   "source": [
    "### Kısa Bir Özet:\n",
    "* Learning Rate Scheduling, modelin eğitim süresi boyunca öğrenme hızını dinamik olarak değiştirerek daha hızlı, verimli ve stabil bir öğrenme süreci sağlar. Bu yöntem, modelin daha hızlı öğrenmesini ve sonrasında daha hassas bir şekilde optimize olmasını sağlar."
   ]
  }
 ],
 "metadata": {
  "kernelspec": {
   "display_name": "Python 3",
   "language": "python",
   "name": "python3"
  },
  "language_info": {
   "codemirror_mode": {
    "name": "ipython",
    "version": 3
   },
   "file_extension": ".py",
   "mimetype": "text/x-python",
   "name": "python",
   "nbconvert_exporter": "python",
   "pygments_lexer": "ipython3",
   "version": "3.12.9"
  }
 },
 "nbformat": 4,
 "nbformat_minor": 2
}
